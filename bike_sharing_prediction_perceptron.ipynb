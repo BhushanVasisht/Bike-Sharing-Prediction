{
  "nbformat": 4,
  "nbformat_minor": 0,
  "metadata": {
    "colab": {
      "name": "Untitled17.ipynb",
      "version": "0.3.2",
      "provenance": [],
      "include_colab_link": true
    },
    "kernelspec": {
      "name": "python3",
      "display_name": "Python 3"
    },
    "accelerator": "TPU"
  },
  "cells": [
    {
      "cell_type": "markdown",
      "metadata": {
        "id": "view-in-github",
        "colab_type": "text"
      },
      "source": [
        "<a href=\"https://colab.research.google.com/github/BhushanVasisht/Bike-Sharing-Prediction/blob/master/bike_sharing_prediction_perceptron.ipynb\" target=\"_parent\"><img src=\"https://colab.research.google.com/assets/colab-badge.svg\" alt=\"Open In Colab\"/></a>"
      ]
    },
    {
      "metadata": {
        "id": "B5QfCHuAsvxO",
        "colab_type": "code",
        "colab": {}
      },
      "cell_type": "code",
      "source": [
        "from keras.models import Sequential\n",
        "from keras.layers import Dense\n",
        "from pandas import read_csv\n",
        "import numpy as np"
      ],
      "execution_count": 0,
      "outputs": []
    },
    {
      "metadata": {
        "id": "-QnT1bqrtSkH",
        "colab_type": "code",
        "colab": {}
      },
      "cell_type": "code",
      "source": [
        "import random\n",
        "random.seed(42)"
      ],
      "execution_count": 0,
      "outputs": []
    },
    {
      "metadata": {
        "id": "s6l-dzhpBHy8",
        "colab_type": "code",
        "colab": {}
      },
      "cell_type": "code",
      "source": [
        "dataframe = read_csv('BBC.csv')"
      ],
      "execution_count": 0,
      "outputs": []
    },
    {
      "metadata": {
        "id": "C2VPMFfUBxyv",
        "colab_type": "code",
        "colab": {
          "base_uri": "https://localhost:8080/",
          "height": 136
        },
        "outputId": "41d09220-0968-490a-f2cd-2a3df9fc9d06"
      },
      "cell_type": "code",
      "source": [
        "x = dataframe.values[:,0:11]\n",
        "y = dataframe.values[:,11]\n",
        "\n",
        "X = x[:-1,:]\n",
        "Y = y[:-1]\n",
        "\n",
        "X[:, 2] = X[:, 2] / 10000.0\n",
        "X[:, 10] = X[:, 10] / 10.0\n",
        "\n",
        "X"
      ],
      "execution_count": 164,
      "outputs": [
        {
          "output_type": "execute_result",
          "data": {
            "text/plain": [
              "array([[5, 1, 0, ..., 2, 2, 0],\n",
              "       [5, 1, 0, ..., 1, 2, 0],\n",
              "       [5, 1, 0, ..., 5, 2, 0],\n",
              "       ...,\n",
              "       [4, 2, 0, ..., 1, 3, 0],\n",
              "       [4, 1, 0, ..., 1, 3, 0],\n",
              "       [5, 1, 0, ..., 1, 3, 0]])"
            ]
          },
          "metadata": {
            "tags": []
          },
          "execution_count": 164
        }
      ]
    },
    {
      "metadata": {
        "id": "OtpRk5Z4B5H2",
        "colab_type": "code",
        "colab": {}
      },
      "cell_type": "code",
      "source": [
        "model = Sequential()"
      ],
      "execution_count": 0,
      "outputs": []
    },
    {
      "metadata": {
        "id": "CPLbpCLtFXEj",
        "colab_type": "code",
        "colab": {}
      },
      "cell_type": "code",
      "source": [
        "model.add(Dense(11, input_dim=11, kernel_initializer='uniform', activation='tanh'))\n",
        "model.add(Dense(32, kernel_initializer='uniform', activation='tanh'))\n",
        "model.add(Dense(64, kernel_initializer='uniform', activation='relu'))\n",
        "model.add(Dense(64, kernel_initializer='uniform', activation='relu'))\n",
        "model.add(Dense(32, kernel_initializer='uniform', activation='tanh'))\n",
        "model.add(Dense(1, kernel_initializer='uniform', activation='sigmoid'))"
      ],
      "execution_count": 0,
      "outputs": []
    },
    {
      "metadata": {
        "id": "6lOTF-YYF3Fu",
        "colab_type": "code",
        "colab": {}
      },
      "cell_type": "code",
      "source": [
        "model.compile(loss='binary_crossentropy', optimizer='adam', metrics=['accuracy'])"
      ],
      "execution_count": 0,
      "outputs": []
    },
    {
      "metadata": {
        "id": "lay7f9SRHoXG",
        "colab_type": "code",
        "colab": {}
      },
      "cell_type": "code",
      "source": [
        "model.fit(X, Y, epochs= 5000, batch_size=100)"
      ],
      "execution_count": 0,
      "outputs": []
    },
    {
      "metadata": {
        "id": "y018W7yQHvNi",
        "colab_type": "code",
        "colab": {
          "base_uri": "https://localhost:8080/",
          "height": 51
        },
        "outputId": "cd28af4f-234d-4444-92d7-769173fe51e4"
      },
      "cell_type": "code",
      "source": [
        "scores = model.evaluate(X,Y)\n",
        "print('%s : %.2f%%' % (model.metrics_names[1], scores[1] * 100))"
      ],
      "execution_count": 170,
      "outputs": [
        {
          "output_type": "stream",
          "text": [
            "18483/18483 [==============================] - 1s 62us/step\n",
            "acc : 78.18%\n"
          ],
          "name": "stdout"
        }
      ]
    },
    {
      "metadata": {
        "id": "y4VzmA34ceg5",
        "colab_type": "code",
        "colab": {
          "base_uri": "https://localhost:8080/",
          "height": 34
        },
        "outputId": "be73e15a-140e-4054-9857-0614947710ce"
      },
      "cell_type": "code",
      "source": [
        "pred = model.predict(X[-1].reshape([1,11]))\n",
        "pred*100"
      ],
      "execution_count": 174,
      "outputs": [
        {
          "output_type": "execute_result",
          "data": {
            "text/plain": [
              "array([[83.542755]], dtype=float32)"
            ]
          },
          "metadata": {
            "tags": []
          },
          "execution_count": 174
        }
      ]
    }
  ]
}